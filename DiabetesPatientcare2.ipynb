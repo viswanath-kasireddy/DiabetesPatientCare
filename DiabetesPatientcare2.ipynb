{
  "nbformat": 4,
  "nbformat_minor": 0,
  "metadata": {
    "colab": {
      "provenance": []
    },
    "kernelspec": {
      "name": "python3",
      "display_name": "Python 3"
    },
    "language_info": {
      "name": "python"
    }
  },
  "cells": [
    {
      "cell_type": "code",
      "execution_count": 1,
      "metadata": {
        "id": "TLbjy7y5Zqf5"
      },
      "outputs": [],
      "source": [
        "import pandas as pd\n",
        "\n",
        "# Replace 'your_file_url_here' with the actual URL of your file\n",
        "file_url = 'https://raw.githubusercontent.com/viswanath-kasireddy/MLDiabetes/main/diabetic_data%20copy.csv'\n",
        "\n",
        "# Read the file from the URL into a pandas DataFrame\n",
        "df = pd.read_csv(file_url)"
      ]
    },
    {
      "cell_type": "code",
      "source": [
        "column_names = df.columns.tolist()\n",
        "\n",
        "# Display the column names\n",
        "print(\"Column names:\", column_names)"
      ],
      "metadata": {
        "colab": {
          "base_uri": "https://localhost:8080/"
        },
        "id": "Pldx5flkapFY",
        "outputId": "1dfdc157-8b5c-4331-ce7b-02f4d31cf5d6"
      },
      "execution_count": 2,
      "outputs": [
        {
          "output_type": "stream",
          "name": "stdout",
          "text": [
            "Column names: ['encounter_id', 'patient_nbr', 'race', 'gender', 'age', 'weight', 'admission_type_id', 'discharge_disposition_id', 'admission_source_id', 'time_in_hospital', 'payer_code', 'medical_specialty', 'num_lab_procedures', 'num_procedures', 'num_medications', 'number_outpatient', 'number_emergency', 'number_inpatient', 'diag_1', 'diag_2', 'diag_3', 'number_diagnoses', 'max_glu_serum', 'A1Cresult', 'metformin', 'repaglinide', 'nateglinide', 'chlorpropamide', 'glimepiride', 'acetohexamide', 'glipizide', 'glyburide', 'tolbutamide', 'pioglitazone', 'rosiglitazone', 'acarbose', 'miglitol', 'troglitazone', 'tolazamide', 'examide', 'citoglipton', 'insulin', 'glyburide-metformin', 'glipizide-metformin', 'glimepiride-pioglitazone', 'metformin-rosiglitazone', 'metformin-pioglitazone', 'change', 'diabetesMed', 'readmitted']\n"
          ]
        }
      ]
    },
    {
      "cell_type": "code",
      "source": [
        "columns_to_drop = ['encounter_id', 'patient_nbr', 'admission_type_id','discharge_disposition_id','admission_source_id','payer_code','medical_specialty','max_glu_serum', 'A1Cresult','diag_1', 'diag_2','diag_3']\n",
        "\n",
        "df = df.drop(columns=columns_to_drop)\n",
        "\n",
        "medicines = ['metformin', 'repaglinide', 'nateglinide', 'chlorpropamide', 'glimepiride', 'acetohexamide', 'glipizide', 'glyburide', 'tolbutamide', 'pioglitazone', 'rosiglitazone', 'acarbose', 'miglitol', 'troglitazone', 'tolazamide', 'examide', 'citoglipton', 'insulin', 'glyburide-metformin', 'glipizide-metformin', 'glimepiride-pioglitazone', 'metformin-rosiglitazone', 'metformin-pioglitazone']\n",
        "\n",
        "df = df.drop(columns=medicines)"
      ],
      "metadata": {
        "id": "HP7u8B6Yapj1"
      },
      "execution_count": 3,
      "outputs": []
    },
    {
      "cell_type": "code",
      "source": [
        "df = df.dropna()\n",
        "total_records = df.shape[0]\n",
        "\n",
        "# Display the total number of records\n",
        "print(\"Total number of records:\", total_records)\n",
        "\n",
        "# Filter out rows with any null (NaN) values in any column and '?' values\n",
        "df = df.replace('?', pd.NA)  # Replace '?' with NaN values\n",
        "df = df.dropna()\n",
        "\n",
        "# Optionally, you can reset the index of the DataFrame after dropping rows with null values\n",
        "df = df.reset_index(drop=True)\n",
        "\n",
        "# Now, the 'df' DataFrame contains only records where each field has a value (no nulls) and no '?'\n",
        "\n",
        "# If you want to display the resulting DataFrame, you can use:\n",
        "print(df.head())\n",
        "\n",
        "total_records = df.shape[0]\n",
        "\n",
        "print(\"Total number of records 2:\", total_records)"
      ],
      "metadata": {
        "colab": {
          "base_uri": "https://localhost:8080/"
        },
        "id": "rQ_NCmhlawiu",
        "outputId": "e14ca276-e04d-4dc4-cb4e-1e813b551771"
      },
      "execution_count": 4,
      "outputs": [
        {
          "output_type": "stream",
          "name": "stdout",
          "text": [
            "Total number of records: 101766\n",
            "        race  gender      age    weight  time_in_hospital  num_lab_procedures  \\\n",
            "0  Caucasian    Male  [50-60)  [75-100)                 2                  68   \n",
            "1  Caucasian  Female  [60-70)    [0-25)                 5                  71   \n",
            "2  Caucasian  Female  [40-50)  [75-100)                 3                  56   \n",
            "3  Caucasian  Female  [70-80)  [75-100)                11                  78   \n",
            "4  Caucasian  Female  [80-90)   [50-75)                 9                  72   \n",
            "\n",
            "   num_procedures  num_medications  number_outpatient  number_emergency  \\\n",
            "0               3               15                  0                 0   \n",
            "1               5               23                  0                 0   \n",
            "2               3               15                  0                 0   \n",
            "3               0               18                  0                 0   \n",
            "4               5               17                  0                 0   \n",
            "\n",
            "   number_inpatient  number_diagnoses change diabetesMed readmitted  \n",
            "0                 0                 6     No         Yes        >30  \n",
            "1                 0                 7     Ch         Yes        >30  \n",
            "2                 0                 5     Ch         Yes         NO  \n",
            "3                 1                 7     Ch         Yes         NO  \n",
            "4                 0                 7     Ch         Yes        >30  \n",
            "Total number of records 2: 3059\n"
          ]
        }
      ]
    },
    {
      "cell_type": "code",
      "source": [
        "column_names = df.columns.tolist()\n",
        "print(len(column_names))\n",
        "\n",
        "# Display the column names\n",
        "print(\"Column names:\", column_names)"
      ],
      "metadata": {
        "colab": {
          "base_uri": "https://localhost:8080/"
        },
        "id": "oAgi601ja4m5",
        "outputId": "79fe3cb1-125a-4cda-cefe-432b1c301260"
      },
      "execution_count": 5,
      "outputs": [
        {
          "output_type": "stream",
          "name": "stdout",
          "text": [
            "15\n",
            "Column names: ['race', 'gender', 'age', 'weight', 'time_in_hospital', 'num_lab_procedures', 'num_procedures', 'num_medications', 'number_outpatient', 'number_emergency', 'number_inpatient', 'number_diagnoses', 'change', 'diabetesMed', 'readmitted']\n"
          ]
        }
      ]
    },
    {
      "cell_type": "code",
      "source": [
        "distinct_values = df['age'].unique()\n",
        "print(distinct_values)\n",
        "\n",
        "# Display the distinct values\n"
      ],
      "metadata": {
        "colab": {
          "base_uri": "https://localhost:8080/"
        },
        "id": "4FiqCZNKa9GZ",
        "outputId": "44550200-d41c-405e-b623-6a02c5e222e1"
      },
      "execution_count": 6,
      "outputs": [
        {
          "output_type": "stream",
          "name": "stdout",
          "text": [
            "['[50-60)' '[60-70)' '[40-50)' '[70-80)' '[80-90)' '[30-40)' '[0-10)'\n",
            " '[90-100)' '[10-20)' '[20-30)']\n"
          ]
        }
      ]
    },
    {
      "cell_type": "code",
      "source": [
        "age_mapping = {\n",
        "    '[0-10)': 5,\n",
        "    '[10-20)': 15,\n",
        "    '[20-30)': 25,\n",
        "    '[30-40)': 35,\n",
        "    '[40-50)': 45,\n",
        "    '[50-60)': 55,\n",
        "    '[60-70)': 65,\n",
        "    '[70-80)': 75,\n",
        "    '[80-90)': 85,\n",
        "    '[90-100)': 95\n",
        "}\n",
        "\n",
        "df['age'] = df['age'].replace(age_mapping)"
      ],
      "metadata": {
        "id": "OwcMOJ-Wcvrt"
      },
      "execution_count": 7,
      "outputs": []
    },
    {
      "cell_type": "code",
      "source": [
        "distinct_values = df['age'].unique()\n",
        "print(distinct_values)"
      ],
      "metadata": {
        "colab": {
          "base_uri": "https://localhost:8080/"
        },
        "id": "KmhpaYQcdiWa",
        "outputId": "0cce5094-bc7e-410e-ff19-f26bbf8bf3eb"
      },
      "execution_count": 8,
      "outputs": [
        {
          "output_type": "stream",
          "name": "stdout",
          "text": [
            "[55 65 45 75 85 35  5 95 15 25]\n"
          ]
        }
      ]
    },
    {
      "cell_type": "code",
      "source": [
        "distinct_values = df['weight'].unique()\n",
        "\n",
        "# Display the distinct values\n",
        "print(\"Distinct values in 'weight' column:\")\n",
        "print(distinct_values)"
      ],
      "metadata": {
        "colab": {
          "base_uri": "https://localhost:8080/"
        },
        "id": "e2PDwrEGbC9o",
        "outputId": "09b32b85-db7a-4d00-d576-3a61cac27b36"
      },
      "execution_count": 9,
      "outputs": [
        {
          "output_type": "stream",
          "name": "stdout",
          "text": [
            "Distinct values in 'weight' column:\n",
            "['[75-100)' '[0-25)' '[50-75)' '[100-125)' '[25-50)' '[125-150)'\n",
            " '[150-175)' '>200' '[175-200)']\n"
          ]
        }
      ]
    },
    {
      "cell_type": "code",
      "source": [
        "weight_mapping = {\n",
        "    '[0-25)': 20,\n",
        "    '[25-50)': 40,\n",
        "    '[50-75)': 70,\n",
        "    '[75-100)': 90,\n",
        "    '[100-125)': 120,\n",
        "    '[125-150)': 140,\n",
        "    '[150-175)': 170,\n",
        "    '[175-200)': 190,\n",
        "    '>200': 250,\n",
        "}\n",
        "\n",
        "df['weight'] = df['weight'].replace(weight_mapping)"
      ],
      "metadata": {
        "id": "ABvtzNhHczvV"
      },
      "execution_count": 10,
      "outputs": []
    },
    {
      "cell_type": "code",
      "source": [
        "distinct_values = df['weight'].unique()\n",
        "print(distinct_values)"
      ],
      "metadata": {
        "colab": {
          "base_uri": "https://localhost:8080/"
        },
        "id": "Tixm13Dld4jh",
        "outputId": "dc87426e-1ccb-490a-c543-1f19a0c24a17"
      },
      "execution_count": 11,
      "outputs": [
        {
          "output_type": "stream",
          "name": "stdout",
          "text": [
            "[ 90  20  70 120  40 140 170 250 190]\n"
          ]
        }
      ]
    },
    {
      "cell_type": "code",
      "source": [
        "from sklearn.model_selection import StratifiedKFold\n",
        "from sklearn.tree import DecisionTreeClassifier\n",
        "from sklearn.preprocessing import StandardScaler, LabelEncoder, OneHotEncoder\n",
        "from sklearn.compose import ColumnTransformer\n",
        "from sklearn.pipeline import Pipeline\n",
        "from sklearn.metrics import accuracy_score"
      ],
      "metadata": {
        "id": "7VYc1cCCezt9"
      },
      "execution_count": 12,
      "outputs": []
    },
    {
      "cell_type": "code",
      "source": [
        "df['age'] = df['age'].astype(int)\n",
        "df['weight'] = df['weight'].astype(int)\n",
        "\n",
        "for column in df.columns:\n",
        "    data_type = df[column].dtype\n",
        "    print(f\"Column '{column}' has data type: {data_type}\")"
      ],
      "metadata": {
        "colab": {
          "base_uri": "https://localhost:8080/"
        },
        "id": "ngEj2o3pfPm3",
        "outputId": "d13a77bd-74ae-4474-8534-e402a1923fcd"
      },
      "execution_count": 13,
      "outputs": [
        {
          "output_type": "stream",
          "name": "stdout",
          "text": [
            "Column 'race' has data type: object\n",
            "Column 'gender' has data type: object\n",
            "Column 'age' has data type: int64\n",
            "Column 'weight' has data type: int64\n",
            "Column 'time_in_hospital' has data type: int64\n",
            "Column 'num_lab_procedures' has data type: int64\n",
            "Column 'num_procedures' has data type: int64\n",
            "Column 'num_medications' has data type: int64\n",
            "Column 'number_outpatient' has data type: int64\n",
            "Column 'number_emergency' has data type: int64\n",
            "Column 'number_inpatient' has data type: int64\n",
            "Column 'number_diagnoses' has data type: int64\n",
            "Column 'change' has data type: object\n",
            "Column 'diabetesMed' has data type: object\n",
            "Column 'readmitted' has data type: object\n"
          ]
        }
      ]
    },
    {
      "cell_type": "code",
      "source": [
        "from sklearn.ensemble import RandomForestClassifier\n",
        "\n",
        "X = df.drop('readmitted', axis=1)\n",
        "y = df['readmitted']\n",
        "\n",
        "# Encode the target variable 'readmitted' with numerical labels\n",
        "label_encoder = LabelEncoder()\n",
        "y = label_encoder.fit_transform(y)\n",
        "\n",
        "# Define columns to be scaled and encoded\n",
        "numerical_columns = ['time_in_hospital', 'num_lab_procedures', 'num_procedures', 'num_medications',\n",
        "                     'number_inpatient', 'number_emergency','number_diagnoses','weight','age']\n",
        "categorical_columns = ['race', 'gender','change','diabetesMed']\n",
        "\n",
        "# Create a pipeline for preprocessing\n",
        "preprocessor = ColumnTransformer(\n",
        "    transformers=[\n",
        "        ('num', StandardScaler(), numerical_columns),   # Standardize numerical columns\n",
        "        ('cat', OneHotEncoder(), categorical_columns)   # One-hot encode categorical columns\n",
        "    ])\n",
        "\n",
        "# Create the Decision Tree model\n",
        "model = RandomForestClassifier(\n",
        "    n_estimators=30,\n",
        "    criterion='entropy',\n",
        "    max_depth=10,\n",
        "    min_samples_split=2,\n",
        "    min_samples_leaf=1,\n",
        "    bootstrap=True,\n",
        "    random_state=42\n",
        ")\n",
        "\n",
        "# Create stratified k-fold cross-validator\n",
        "skf = StratifiedKFold(n_splits=5, random_state=42, shuffle=True)\n",
        "\n",
        "# Perform stratified k-fold cross-validation and evaluate the model\n",
        "accuracy_scores = []\n",
        "for train_index, test_index in skf.split(X, y):\n",
        "    X_train, X_test = X.iloc[train_index], X.iloc[test_index]\n",
        "    y_train, y_test = y[train_index], y[test_index]\n",
        "\n",
        "    model_pipeline = Pipeline(steps=[\n",
        "        ('preprocessor', preprocessor),\n",
        "        ('classifier', model)\n",
        "    ])\n",
        "\n",
        "    model_pipeline.fit(X_train, y_train)\n",
        "    y_pred = model_pipeline.predict(X_test)\n",
        "    accuracy = accuracy_score(y_test, y_pred)\n",
        "    accuracy_scores.append(accuracy)\n",
        "\n",
        "# Calculate the average accuracy across all folds\n",
        "average_accuracy = sum(accuracy_scores) / len(accuracy_scores)\n",
        "print(\"Average Accuracy:\", average_accuracy)"
      ],
      "metadata": {
        "colab": {
          "base_uri": "https://localhost:8080/"
        },
        "id": "ef1rtrkWe11X",
        "outputId": "f02611d3-b1b6-4fe9-cf27-70bdbb664de6"
      },
      "execution_count": 14,
      "outputs": [
        {
          "output_type": "stream",
          "name": "stdout",
          "text": [
            "Average Accuracy: 0.5125835713445225\n"
          ]
        }
      ]
    },
    {
      "cell_type": "code",
      "source": [
        "counts = df['gender'].value_counts()\n",
        "distinct= counts.index.tolist()\n",
        "print(distinct)"
      ],
      "metadata": {
        "colab": {
          "base_uri": "https://localhost:8080/"
        },
        "id": "UD0w_ce8fDSq",
        "outputId": "82f4f40d-43fb-4d8f-da7b-ae6a082bd1f6"
      },
      "execution_count": 15,
      "outputs": [
        {
          "output_type": "stream",
          "name": "stdout",
          "text": [
            "['Female', 'Male']\n"
          ]
        }
      ]
    },
    {
      "cell_type": "code",
      "source": [
        "count_female = counts.get(\"Female\", 0)\n",
        "print(count_female)"
      ],
      "metadata": {
        "colab": {
          "base_uri": "https://localhost:8080/"
        },
        "id": "ap6KYu8IyibQ",
        "outputId": "b02fec37-6db0-4421-c839-164cbf3525f8"
      },
      "execution_count": 16,
      "outputs": [
        {
          "output_type": "stream",
          "name": "stdout",
          "text": [
            "1574\n"
          ]
        }
      ]
    },
    {
      "cell_type": "code",
      "source": [
        "df2 = pd.read_csv(file_url)"
      ],
      "metadata": {
        "id": "UQ1VHAv12f9n"
      },
      "execution_count": 17,
      "outputs": []
    },
    {
      "cell_type": "code",
      "source": [
        "columns_to_drop = ['encounter_id', 'patient_nbr', 'admission_type_id','discharge_disposition_id','admission_source_id','payer_code','medical_specialty','max_glu_serum', 'A1Cresult','diag_1', 'diag_2','diag_3']\n",
        "\n",
        "df2 = df2.drop(columns=columns_to_drop)\n",
        "\n",
        "medicines = ['metformin', 'repaglinide', 'nateglinide', 'chlorpropamide', 'glimepiride', 'acetohexamide', 'glipizide', 'glyburide', 'tolbutamide', 'pioglitazone', 'rosiglitazone', 'acarbose', 'miglitol', 'troglitazone', 'tolazamide', 'examide', 'citoglipton', 'insulin', 'glyburide-metformin', 'glipizide-metformin', 'glimepiride-pioglitazone', 'metformin-rosiglitazone', 'metformin-pioglitazone']\n",
        "\n",
        "df2 = df2.drop(columns=medicines)"
      ],
      "metadata": {
        "id": "lrFxtdre4o36"
      },
      "execution_count": 18,
      "outputs": []
    },
    {
      "cell_type": "code",
      "source": [
        "df2 = df2.dropna()\n",
        "total_records = df2.shape[0]\n",
        "\n",
        "# Display the total number of records\n",
        "print(\"Total number of records:\", total_records)\n",
        "\n",
        "# Filter out rows with any null (NaN) values in any column and '?' values\n",
        "df2 = df2.replace('?', pd.NA)  # Replace '?' with NaN values\n",
        "df2 = df2.dropna()\n",
        "\n",
        "# Optionally, you can reset the index of the DataFrame after dropping rows with null values\n",
        "df2 = df2.reset_index(drop=True)\n",
        "\n",
        "# Now, the 'df' DataFrame contains only records where each field has a value (no nulls) and no '?'\n",
        "\n",
        "# If you want to display the resulting DataFrame, you can use:\n",
        "print(df2.head())\n",
        "\n",
        "total_records = df2.shape[0]\n",
        "\n",
        "print(\"Total number of records 2:\", total_records)"
      ],
      "metadata": {
        "colab": {
          "base_uri": "https://localhost:8080/"
        },
        "id": "tWq4i57Z4s7f",
        "outputId": "f817a921-11f6-44c9-ea35-53c0e9d7e2d8"
      },
      "execution_count": 19,
      "outputs": [
        {
          "output_type": "stream",
          "name": "stdout",
          "text": [
            "Total number of records: 101766\n",
            "        race  gender      age    weight  time_in_hospital  num_lab_procedures  \\\n",
            "0  Caucasian    Male  [50-60)  [75-100)                 2                  68   \n",
            "1  Caucasian  Female  [60-70)    [0-25)                 5                  71   \n",
            "2  Caucasian  Female  [40-50)  [75-100)                 3                  56   \n",
            "3  Caucasian  Female  [70-80)  [75-100)                11                  78   \n",
            "4  Caucasian  Female  [80-90)   [50-75)                 9                  72   \n",
            "\n",
            "   num_procedures  num_medications  number_outpatient  number_emergency  \\\n",
            "0               3               15                  0                 0   \n",
            "1               5               23                  0                 0   \n",
            "2               3               15                  0                 0   \n",
            "3               0               18                  0                 0   \n",
            "4               5               17                  0                 0   \n",
            "\n",
            "   number_inpatient  number_diagnoses change diabetesMed readmitted  \n",
            "0                 0                 6     No         Yes        >30  \n",
            "1                 0                 7     Ch         Yes        >30  \n",
            "2                 0                 5     Ch         Yes         NO  \n",
            "3                 1                 7     Ch         Yes         NO  \n",
            "4                 0                 7     Ch         Yes        >30  \n",
            "Total number of records 2: 3059\n"
          ]
        }
      ]
    },
    {
      "cell_type": "code",
      "source": [
        "male_df = df2[df2['gender'] == 'Male']\n",
        "female_df = df2[df2['gender'] == 'Female']\n",
        "print(male_df.shape[0])\n",
        "print(female_df.shape[0])"
      ],
      "metadata": {
        "colab": {
          "base_uri": "https://localhost:8080/"
        },
        "id": "THVq40ez42gR",
        "outputId": "4dbe8510-fbde-4f96-c2c8-5f6b581d5ee4"
      },
      "execution_count": 20,
      "outputs": [
        {
          "output_type": "stream",
          "name": "stdout",
          "text": [
            "1485\n",
            "1574\n"
          ]
        }
      ]
    },
    {
      "cell_type": "code",
      "source": [
        "age_mapping = {\n",
        "    '[0-10)': 5,\n",
        "    '[10-20)': 15,\n",
        "    '[20-30)': 25,\n",
        "    '[30-40)': 35,\n",
        "    '[40-50)': 45,\n",
        "    '[50-60)': 55,\n",
        "    '[60-70)': 65,\n",
        "    '[70-80)': 75,\n",
        "    '[80-90)': 85,\n",
        "    '[90-100)': 95\n",
        "}\n",
        "\n",
        "male_df['age'] = male_df['age'].replace(age_mapping)\n",
        "\n",
        "weight_mapping = {\n",
        "    '[0-25)': 20,\n",
        "    '[25-50)': 40,\n",
        "    '[50-75)': 70,\n",
        "    '[75-100)': 90,\n",
        "    '[100-125)': 120,\n",
        "    '[125-150)': 140,\n",
        "    '[150-175)': 170,\n",
        "    '[175-200)': 190,\n",
        "    '>200': 250,\n",
        "}\n",
        "\n",
        "male_df['weight'] = male_df['weight'].replace(weight_mapping)"
      ],
      "metadata": {
        "colab": {
          "base_uri": "https://localhost:8080/"
        },
        "id": "ksiHnAC95YNT",
        "outputId": "a3b2d569-34e9-40a3-f58a-4869e6ea7a6c"
      },
      "execution_count": 21,
      "outputs": [
        {
          "output_type": "stream",
          "name": "stderr",
          "text": [
            "<ipython-input-21-5552c6d157a3>:14: SettingWithCopyWarning: \n",
            "A value is trying to be set on a copy of a slice from a DataFrame.\n",
            "Try using .loc[row_indexer,col_indexer] = value instead\n",
            "\n",
            "See the caveats in the documentation: https://pandas.pydata.org/pandas-docs/stable/user_guide/indexing.html#returning-a-view-versus-a-copy\n",
            "  male_df['age'] = male_df['age'].replace(age_mapping)\n",
            "<ipython-input-21-5552c6d157a3>:28: SettingWithCopyWarning: \n",
            "A value is trying to be set on a copy of a slice from a DataFrame.\n",
            "Try using .loc[row_indexer,col_indexer] = value instead\n",
            "\n",
            "See the caveats in the documentation: https://pandas.pydata.org/pandas-docs/stable/user_guide/indexing.html#returning-a-view-versus-a-copy\n",
            "  male_df['weight'] = male_df['weight'].replace(weight_mapping)\n"
          ]
        }
      ]
    },
    {
      "cell_type": "code",
      "source": [],
      "metadata": {
        "id": "tKavi8rS5i4F"
      },
      "execution_count": 21,
      "outputs": []
    },
    {
      "cell_type": "code",
      "source": [
        "X = male_df.drop('readmitted', axis=1)\n",
        "y = male_df['readmitted']\n",
        "\n",
        "# Encode the target variable 'readmitted' with numerical labels\n",
        "label_encoder = LabelEncoder()\n",
        "y = label_encoder.fit_transform(y)\n",
        "\n",
        "# Define columns to be scaled and encoded\n",
        "numerical_columns = ['time_in_hospital', 'num_lab_procedures', 'num_procedures', 'num_medications',\n",
        "                     'number_inpatient', 'number_emergency','number_diagnoses','weight','age']\n",
        "categorical_columns = ['race', 'gender','change','diabetesMed']\n",
        "\n",
        "# Create a pipeline for preprocessing\n",
        "preprocessor = ColumnTransformer(\n",
        "    transformers=[\n",
        "        ('num', StandardScaler(), numerical_columns),   # Standardize numerical columns\n",
        "        ('cat', OneHotEncoder(), categorical_columns)   # One-hot encode categorical columns\n",
        "    ])\n",
        "\n",
        "# Create the Decision Tree model\n",
        "model = RandomForestClassifier(\n",
        "    n_estimators=30,\n",
        "    criterion='entropy',\n",
        "    max_depth=10,\n",
        "    min_samples_split=2,\n",
        "    min_samples_leaf=1,\n",
        "    bootstrap=True,\n",
        "    random_state=42\n",
        ")\n",
        "\n",
        "# Create stratified k-fold cross-validator\n",
        "skf = StratifiedKFold(n_splits=5, random_state=42, shuffle=True)\n",
        "\n",
        "# Perform stratified k-fold cross-validation and evaluate the model\n",
        "accuracy_scores = []\n",
        "for train_index, test_index in skf.split(X, y):\n",
        "    X_train, X_test = X.iloc[train_index], X.iloc[test_index]\n",
        "    y_train, y_test = y[train_index], y[test_index]\n",
        "\n",
        "    model_pipeline = Pipeline(steps=[\n",
        "        ('preprocessor', preprocessor),\n",
        "        ('classifier', model)\n",
        "    ])\n",
        "\n",
        "    model_pipeline.fit(X_train, y_train)\n",
        "    y_pred = model_pipeline.predict(X_test)\n",
        "    accuracy = accuracy_score(y_test, y_pred)\n",
        "    accuracy_scores.append(accuracy)\n",
        "\n",
        "# Calculate the average accuracy across all folds\n",
        "average_accuracy = sum(accuracy_scores) / len(accuracy_scores)\n",
        "print(\"Average Accuracy:\", average_accuracy)"
      ],
      "metadata": {
        "colab": {
          "base_uri": "https://localhost:8080/"
        },
        "id": "q2LhrNQv5OYo",
        "outputId": "d318e929-0d1a-4c19-f50b-e7d7728c5935"
      },
      "execution_count": 22,
      "outputs": [
        {
          "output_type": "stream",
          "name": "stdout",
          "text": [
            "Average Accuracy: 0.5023569023569023\n"
          ]
        }
      ]
    },
    {
      "cell_type": "code",
      "source": [
        "age_mapping = {\n",
        "    '[0-10)': 5,\n",
        "    '[10-20)': 15,\n",
        "    '[20-30)': 25,\n",
        "    '[30-40)': 35,\n",
        "    '[40-50)': 45,\n",
        "    '[50-60)': 55,\n",
        "    '[60-70)': 65,\n",
        "    '[70-80)': 75,\n",
        "    '[80-90)': 85,\n",
        "    '[90-100)': 95\n",
        "}\n",
        "\n",
        "female_df['age'] = female_df['age'].replace(age_mapping)\n",
        "\n",
        "weight_mapping = {\n",
        "    '[0-25)': 20,\n",
        "    '[25-50)': 40,\n",
        "    '[50-75)': 70,\n",
        "    '[75-100)': 90,\n",
        "    '[100-125)': 120,\n",
        "    '[125-150)': 140,\n",
        "    '[150-175)': 170,\n",
        "    '[175-200)': 190,\n",
        "    '>200': 250,\n",
        "}\n",
        "\n",
        "female_df['weight'] = female_df['weight'].replace(weight_mapping)"
      ],
      "metadata": {
        "colab": {
          "base_uri": "https://localhost:8080/"
        },
        "id": "Xoma773Q5qXi",
        "outputId": "f9d49eab-5b2f-48e2-c78d-281be424fe77"
      },
      "execution_count": 23,
      "outputs": [
        {
          "output_type": "stream",
          "name": "stderr",
          "text": [
            "<ipython-input-23-606c08807422>:14: SettingWithCopyWarning: \n",
            "A value is trying to be set on a copy of a slice from a DataFrame.\n",
            "Try using .loc[row_indexer,col_indexer] = value instead\n",
            "\n",
            "See the caveats in the documentation: https://pandas.pydata.org/pandas-docs/stable/user_guide/indexing.html#returning-a-view-versus-a-copy\n",
            "  female_df['age'] = female_df['age'].replace(age_mapping)\n",
            "<ipython-input-23-606c08807422>:28: SettingWithCopyWarning: \n",
            "A value is trying to be set on a copy of a slice from a DataFrame.\n",
            "Try using .loc[row_indexer,col_indexer] = value instead\n",
            "\n",
            "See the caveats in the documentation: https://pandas.pydata.org/pandas-docs/stable/user_guide/indexing.html#returning-a-view-versus-a-copy\n",
            "  female_df['weight'] = female_df['weight'].replace(weight_mapping)\n"
          ]
        }
      ]
    },
    {
      "cell_type": "code",
      "source": [
        "X = female_df.drop('readmitted', axis=1)\n",
        "y = female_df['readmitted']\n",
        "\n",
        "# Encode the target variable 'readmitted' with numerical labels\n",
        "label_encoder = LabelEncoder()\n",
        "y = label_encoder.fit_transform(y)\n",
        "\n",
        "# Define columns to be scaled and encoded\n",
        "numerical_columns = ['time_in_hospital', 'num_lab_procedures', 'num_procedures', 'num_medications',\n",
        "                     'number_inpatient', 'number_emergency','number_diagnoses','weight','age']\n",
        "categorical_columns = ['race', 'gender','change','diabetesMed']\n",
        "\n",
        "# Create a pipeline for preprocessing\n",
        "preprocessor = ColumnTransformer(\n",
        "    transformers=[\n",
        "        ('num', StandardScaler(), numerical_columns),   # Standardize numerical columns\n",
        "        ('cat', OneHotEncoder(), categorical_columns)   # One-hot encode categorical columns\n",
        "    ])\n",
        "\n",
        "# Create the Decision Tree model\n",
        "model = RandomForestClassifier(\n",
        "    n_estimators=30,\n",
        "    criterion='entropy',\n",
        "    max_depth=10,\n",
        "    min_samples_split=2,\n",
        "    min_samples_leaf=1,\n",
        "    bootstrap=True,\n",
        "    random_state=42\n",
        ")\n",
        "\n",
        "# Create stratified k-fold cross-validator\n",
        "skf = StratifiedKFold(n_splits=5, random_state=42, shuffle=True)\n",
        "\n",
        "# Perform stratified k-fold cross-validation and evaluate the model\n",
        "accuracy_scores = []\n",
        "for train_index, test_index in skf.split(X, y):\n",
        "    X_train, X_test = X.iloc[train_index], X.iloc[test_index]\n",
        "    y_train, y_test = y[train_index], y[test_index]\n",
        "\n",
        "    model_pipeline = Pipeline(steps=[\n",
        "        ('preprocessor', preprocessor),\n",
        "        ('classifier', model)\n",
        "    ])\n",
        "\n",
        "    model_pipeline.fit(X_train, y_train)\n",
        "    y_pred = model_pipeline.predict(X_test)\n",
        "    accuracy = accuracy_score(y_test, y_pred)\n",
        "    accuracy_scores.append(accuracy)\n",
        "\n",
        "# Calculate the average accuracy across all folds\n",
        "average_accuracy = sum(accuracy_scores) / len(accuracy_scores)\n",
        "print(\"Average Accuracy:\", average_accuracy)"
      ],
      "metadata": {
        "colab": {
          "base_uri": "https://localhost:8080/"
        },
        "id": "EyOGENpG5x7m",
        "outputId": "f72b959a-749f-4f5e-b07a-f7aa77e7f1cd"
      },
      "execution_count": 24,
      "outputs": [
        {
          "output_type": "stream",
          "name": "stdout",
          "text": [
            "Average Accuracy: 0.49746233950055607\n"
          ]
        }
      ]
    },
    {
      "cell_type": "code",
      "source": [
        "df3 = pd.read_csv(file_url)\n",
        "numerical_columns = df3.select_dtypes(include=['int64', 'float64']).columns\n",
        "categorical_columns = df3.select_dtypes(include=['object']).columns\n",
        "default_values = {}\n",
        "for col in df.columns:\n",
        "    if col in numerical_columns:\n",
        "        default_values[col] = df[col].mean()\n",
        "    elif col in categorical_columns:\n",
        "        default_values[col] = df[col].mode()[0]\n",
        "\n",
        "# Fill null values with default values\n",
        "df.fillna(default_values, inplace=True)"
      ],
      "metadata": {
        "id": "_L0IfeYp62ZV"
      },
      "execution_count": 25,
      "outputs": []
    },
    {
      "cell_type": "code",
      "source": [
        "columns_to_drop = ['encounter_id', 'patient_nbr', 'admission_type_id','discharge_disposition_id','admission_source_id','payer_code','medical_specialty','max_glu_serum', 'A1Cresult','diag_1', 'diag_2','diag_3']\n",
        "\n",
        "df3 = df3.drop(columns=columns_to_drop)\n",
        "\n",
        "medicines = ['metformin', 'repaglinide', 'nateglinide', 'chlorpropamide', 'glimepiride', 'acetohexamide', 'glipizide', 'glyburide', 'tolbutamide', 'pioglitazone', 'rosiglitazone', 'acarbose', 'miglitol', 'troglitazone', 'tolazamide', 'examide', 'citoglipton', 'insulin', 'glyburide-metformin', 'glipizide-metformin', 'glimepiride-pioglitazone', 'metformin-rosiglitazone', 'metformin-pioglitazone']\n",
        "\n",
        "df3 = df3.drop(columns=medicines)"
      ],
      "metadata": {
        "id": "REIrv9IR7E_M"
      },
      "execution_count": 26,
      "outputs": []
    },
    {
      "cell_type": "code",
      "source": [
        "df3 = df3.dropna()\n",
        "total_records = df.shape[0]\n",
        "\n",
        "# Display the total number of records\n",
        "print(\"Total number of records:\", total_records)\n",
        "\n",
        "# Filter out rows with any null (NaN) values in any column and '?' values\n",
        "df3 = df3.replace('?', pd.NA)  # Replace '?' with NaN values\n",
        "df3 = df3.dropna()\n",
        "\n",
        "# Optionally, you can reset the index of the DataFrame after dropping rows with null values\n",
        "df3 = df3.reset_index(drop=True)\n",
        "\n",
        "# Now, the 'df' DataFrame contains only records where each field has a value (no nulls) and no '?'\n",
        "\n",
        "# If you want to display the resulting DataFrame, you can use:\n",
        "print(df.head())\n",
        "\n",
        "total_records = df.shape[0]\n",
        "\n",
        "print(\"Total number of records 2:\", total_records)"
      ],
      "metadata": {
        "colab": {
          "base_uri": "https://localhost:8080/"
        },
        "id": "yk1LwlLT7IbO",
        "outputId": "3f17ae07-2956-4998-b929-a1508b83a727"
      },
      "execution_count": 27,
      "outputs": [
        {
          "output_type": "stream",
          "name": "stdout",
          "text": [
            "Total number of records: 3059\n",
            "        race  gender  age  weight  time_in_hospital  num_lab_procedures  \\\n",
            "0  Caucasian    Male   55      90                 2                  68   \n",
            "1  Caucasian  Female   65      20                 5                  71   \n",
            "2  Caucasian  Female   45      90                 3                  56   \n",
            "3  Caucasian  Female   75      90                11                  78   \n",
            "4  Caucasian  Female   85      70                 9                  72   \n",
            "\n",
            "   num_procedures  num_medications  number_outpatient  number_emergency  \\\n",
            "0               3               15                  0                 0   \n",
            "1               5               23                  0                 0   \n",
            "2               3               15                  0                 0   \n",
            "3               0               18                  0                 0   \n",
            "4               5               17                  0                 0   \n",
            "\n",
            "   number_inpatient  number_diagnoses change diabetesMed readmitted  \n",
            "0                 0                 6     No         Yes        >30  \n",
            "1                 0                 7     Ch         Yes        >30  \n",
            "2                 0                 5     Ch         Yes         NO  \n",
            "3                 1                 7     Ch         Yes         NO  \n",
            "4                 0                 7     Ch         Yes        >30  \n",
            "Total number of records 2: 3059\n"
          ]
        }
      ]
    },
    {
      "cell_type": "code",
      "source": [
        "age_mapping = {\n",
        "    '[0-10)': 5,\n",
        "    '[10-20)': 15,\n",
        "    '[20-30)': 25,\n",
        "    '[30-40)': 35,\n",
        "    '[40-50)': 45,\n",
        "    '[50-60)': 55,\n",
        "    '[60-70)': 65,\n",
        "    '[70-80)': 75,\n",
        "    '[80-90)': 85,\n",
        "    '[90-100)': 95\n",
        "}\n",
        "\n",
        "df3['age'] = df3['age'].replace(age_mapping)\n",
        "\n",
        "weight_mapping = {\n",
        "    '[0-25)': 20,\n",
        "    '[25-50)': 40,\n",
        "    '[50-75)': 70,\n",
        "    '[75-100)': 90,\n",
        "    '[100-125)': 120,\n",
        "    '[125-150)': 140,\n",
        "    '[150-175)': 170,\n",
        "    '[175-200)': 190,\n",
        "    '>200': 250,\n",
        "}\n",
        "\n",
        "df3['weight'] = df3['weight'].replace(weight_mapping)"
      ],
      "metadata": {
        "id": "Fx-CGYZ97RiS"
      },
      "execution_count": 28,
      "outputs": []
    },
    {
      "cell_type": "code",
      "source": [
        "X = df3.drop('readmitted', axis=1)\n",
        "y = df3['readmitted']\n",
        "\n",
        "# Encode the target variable 'readmitted' with numerical labels\n",
        "label_encoder = LabelEncoder()\n",
        "y = label_encoder.fit_transform(y)\n",
        "\n",
        "# Define columns to be scaled and encoded\n",
        "numerical_columns = ['time_in_hospital', 'num_lab_procedures', 'num_procedures', 'num_medications',\n",
        "                     'number_inpatient', 'number_emergency','number_diagnoses','weight','age']\n",
        "categorical_columns = ['race', 'gender','change','diabetesMed']\n",
        "\n",
        "# Create a pipeline for preprocessing\n",
        "preprocessor = ColumnTransformer(\n",
        "    transformers=[\n",
        "        ('num', StandardScaler(), numerical_columns),   # Standardize numerical columns\n",
        "        ('cat', OneHotEncoder(), categorical_columns)   # One-hot encode categorical columns\n",
        "    ])\n",
        "\n",
        "# Create the Decision Tree model\n",
        "model = RandomForestClassifier(\n",
        "    n_estimators=1000,\n",
        "    criterion='entropy',\n",
        "    max_depth=5,\n",
        "    min_samples_split=3,\n",
        "    min_samples_leaf=2,\n",
        "    bootstrap=True,\n",
        "    random_state=42\n",
        ")\n",
        "\n",
        "# Create stratified k-fold cross-validator\n",
        "skf = StratifiedKFold(n_splits=5, random_state=42, shuffle=True)\n",
        "\n",
        "# Perform stratified k-fold cross-validation and evaluate the model\n",
        "accuracy_scores = []\n",
        "for train_index, test_index in skf.split(X, y):\n",
        "    X_train, X_test = X.iloc[train_index], X.iloc[test_index]\n",
        "    y_train, y_test = y[train_index], y[test_index]\n",
        "\n",
        "    model_pipeline = Pipeline(steps=[\n",
        "        ('preprocessor', preprocessor),\n",
        "        ('classifier', model)\n",
        "    ])\n",
        "\n",
        "    model_pipeline.fit(X_train, y_train)\n",
        "    y_pred = model_pipeline.predict(X_test)\n",
        "    accuracy = accuracy_score(y_test, y_pred)\n",
        "    accuracy_scores.append(accuracy)\n",
        "\n",
        "# Calculate the average accuracy across all folds\n",
        "average_accuracy = sum(accuracy_scores) / len(accuracy_scores)\n",
        "print(\"Average Accuracy:\", average_accuracy)"
      ],
      "metadata": {
        "colab": {
          "base_uri": "https://localhost:8080/"
        },
        "id": "wIV58fHM7e4d",
        "outputId": "3de21749-e918-4572-e7c0-c3b332f80073"
      },
      "execution_count": 29,
      "outputs": [
        {
          "output_type": "stream",
          "name": "stdout",
          "text": [
            "Average Accuracy: 0.5031037728784913\n"
          ]
        }
      ]
    }
  ]
}