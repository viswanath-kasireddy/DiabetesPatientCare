{
  "nbformat": 4,
  "nbformat_minor": 0,
  "metadata": {
    "colab": {
      "provenance": []
    },
    "kernelspec": {
      "name": "python3",
      "display_name": "Python 3"
    },
    "language_info": {
      "name": "python"
    }
  },
  "cells": [
    {
      "cell_type": "code",
      "execution_count": 19,
      "metadata": {
        "id": "0tZleOEbJVk5"
      },
      "outputs": [],
      "source": [
        "import pandas as pd\n",
        "\n",
        "# Replace 'your_file_url_here' with the actual URL of your file\n",
        "file_url = 'https://raw.githubusercontent.com/viswanath-kasireddy/MLDiabetes/main/diabetic_data%20copy.csv'\n",
        "\n",
        "# Read the file from the URL into a pandas DataFrame\n",
        "df = pd.read_csv(file_url)\n",
        "\n",
        "\n"
      ]
    },
    {
      "cell_type": "code",
      "source": [
        "column_names = df.columns.tolist()\n",
        "\n",
        "# Display the column names\n",
        "print(\"Column names:\", column_names)"
      ],
      "metadata": {
        "colab": {
          "base_uri": "https://localhost:8080/"
        },
        "id": "7JBq9CRrLJNE",
        "outputId": "4479990d-ba38-4fff-c717-ee2edff76102"
      },
      "execution_count": null,
      "outputs": [
        {
          "output_type": "stream",
          "name": "stdout",
          "text": [
            "Column names: ['encounter_id', 'patient_nbr', 'race', 'gender', 'age', 'weight', 'admission_type_id', 'discharge_disposition_id', 'admission_source_id', 'time_in_hospital', 'payer_code', 'medical_specialty', 'num_lab_procedures', 'num_procedures', 'num_medications', 'number_outpatient', 'number_emergency', 'number_inpatient', 'diag_1', 'diag_2', 'diag_3', 'number_diagnoses', 'max_glu_serum', 'A1Cresult', 'metformin', 'repaglinide', 'nateglinide', 'chlorpropamide', 'glimepiride', 'acetohexamide', 'glipizide', 'glyburide', 'tolbutamide', 'pioglitazone', 'rosiglitazone', 'acarbose', 'miglitol', 'troglitazone', 'tolazamide', 'examide', 'citoglipton', 'insulin', 'glyburide-metformin', 'glipizide-metformin', 'glimepiride-pioglitazone', 'metformin-rosiglitazone', 'metformin-pioglitazone', 'change', 'diabetesMed', 'readmitted']\n"
          ]
        }
      ]
    },
    {
      "cell_type": "code",
      "source": [
        "columns_to_drop = ['encounter_id', 'patient_nbr', 'admission_type_id','discharge_disposition_id','admission_source_id','payer_code','medical_specialty','max_glu_serum', 'A1Cresult','diag_1', 'diag_2','diag_3']\n",
        "\n",
        "df = df.drop(columns=columns_to_drop)\n",
        "\n",
        "medicines = ['metformin', 'repaglinide', 'nateglinide', 'chlorpropamide', 'glimepiride', 'acetohexamide', 'glipizide', 'glyburide', 'tolbutamide', 'pioglitazone', 'rosiglitazone', 'acarbose', 'miglitol', 'troglitazone', 'tolazamide', 'examide', 'citoglipton', 'insulin', 'glyburide-metformin', 'glipizide-metformin', 'glimepiride-pioglitazone', 'metformin-rosiglitazone', 'metformin-pioglitazone']\n",
        "\n",
        "df = df.drop(columns=medicines)"
      ],
      "metadata": {
        "id": "VnbTOFlRLU2s"
      },
      "execution_count": 20,
      "outputs": []
    },
    {
      "cell_type": "code",
      "source": [
        "\n",
        "df = df.dropna()\n",
        "total_records = df.shape[0]\n",
        "\n",
        "# Display the total number of records\n",
        "print(\"Total number of records:\", total_records)\n",
        "\n",
        "# Filter out rows with any null (NaN) values in any column and '?' values\n",
        "df = df.replace('?', pd.NA)  # Replace '?' with NaN values\n",
        "df = df.dropna()\n",
        "\n",
        "# Optionally, you can reset the index of the DataFrame after dropping rows with null values\n",
        "df = df.reset_index(drop=True)\n",
        "\n",
        "# Now, the 'df' DataFrame contains only records where each field has a value (no nulls) and no '?'\n",
        "\n",
        "# If you want to display the resulting DataFrame, you can use:\n",
        "print(df.head())\n",
        "\n",
        "total_records = df.shape[0]\n",
        "\n",
        "print(\"Total number of records 2:\", total_records)"
      ],
      "metadata": {
        "colab": {
          "base_uri": "https://localhost:8080/"
        },
        "id": "iy91uKBGKQFk",
        "outputId": "f98e83d1-bb73-4b57-9efa-b9d86aa883b7"
      },
      "execution_count": 21,
      "outputs": [
        {
          "output_type": "stream",
          "name": "stdout",
          "text": [
            "Total number of records: 101766\n",
            "        race  gender      age    weight  time_in_hospital  num_lab_procedures  \\\n",
            "0  Caucasian    Male  [50-60)  [75-100)                 2                  68   \n",
            "1  Caucasian  Female  [60-70)    [0-25)                 5                  71   \n",
            "2  Caucasian  Female  [40-50)  [75-100)                 3                  56   \n",
            "3  Caucasian  Female  [70-80)  [75-100)                11                  78   \n",
            "4  Caucasian  Female  [80-90)   [50-75)                 9                  72   \n",
            "\n",
            "   num_procedures  num_medications  number_outpatient  number_emergency  \\\n",
            "0               3               15                  0                 0   \n",
            "1               5               23                  0                 0   \n",
            "2               3               15                  0                 0   \n",
            "3               0               18                  0                 0   \n",
            "4               5               17                  0                 0   \n",
            "\n",
            "   number_inpatient  number_diagnoses change diabetesMed readmitted  \n",
            "0                 0                 6     No         Yes        >30  \n",
            "1                 0                 7     Ch         Yes        >30  \n",
            "2                 0                 5     Ch         Yes         NO  \n",
            "3                 1                 7     Ch         Yes         NO  \n",
            "4                 0                 7     Ch         Yes        >30  \n",
            "Total number of records 2: 3059\n"
          ]
        }
      ]
    },
    {
      "cell_type": "code",
      "source": [
        "column_names = df.columns.tolist()\n",
        "print(len(column_names))\n",
        "\n",
        "# Display the column names\n",
        "print(\"Column names:\", column_names)"
      ],
      "metadata": {
        "colab": {
          "base_uri": "https://localhost:8080/"
        },
        "id": "xAo0_vp8Mm6u",
        "outputId": "7ea68175-9d0f-413b-e1c2-42a9ea998a3a"
      },
      "execution_count": null,
      "outputs": [
        {
          "output_type": "stream",
          "name": "stdout",
          "text": [
            "15\n",
            "Column names: ['race', 'gender', 'age', 'weight', 'time_in_hospital', 'num_lab_procedures', 'num_procedures', 'num_medications', 'number_outpatient', 'number_emergency', 'number_inpatient', 'number_diagnoses', 'change', 'diabetesMed', 'readmitted']\n"
          ]
        }
      ]
    },
    {
      "cell_type": "code",
      "source": [
        "distinct_values = df['readmitted'].unique()\n",
        "\n",
        "# Display the distinct values\n",
        "print(\"Distinct values in 'medicine1' column:\")\n",
        "print(distinct_values)"
      ],
      "metadata": {
        "colab": {
          "base_uri": "https://localhost:8080/"
        },
        "id": "dHsx1odDymin",
        "outputId": "5ff1dfc8-0e43-4478-e0b0-3def0d795f6f"
      },
      "execution_count": null,
      "outputs": [
        {
          "output_type": "stream",
          "name": "stdout",
          "text": [
            "Distinct values in 'medicine1' column:\n",
            "['>30' 'NO' '<30']\n"
          ]
        }
      ]
    },
    {
      "cell_type": "code",
      "source": [
        "medicine_columns = ['race', 'gender', 'age', 'weight', 'time_in_hospital', 'num_lab_procedures', 'num_procedures', 'num_medications', 'number_outpatient', 'number_emergency', 'number_inpatient', 'number_diagnoses', 'change', 'diabetesMed', 'readmitted']  # Add more columns if needed\n",
        "\n",
        "# Create a dictionary to store the counts for each medicine column\n",
        "medicine_counts = {}\n",
        "\n",
        "# Loop through each medicine column and calculate value counts\n",
        "for column in medicine_columns:\n",
        "    counts = df[column].value_counts()\n",
        "    medicine_counts[column] = counts\n",
        "\n",
        "# Display the counts for each medicine column\n",
        "for column, counts in medicine_counts.items():\n",
        "    print(f\"Counts for '{column}' column:\")\n",
        "    print(counts)\n",
        "    print()"
      ],
      "metadata": {
        "colab": {
          "base_uri": "https://localhost:8080/"
        },
        "id": "3ZnUMivq9IAJ",
        "outputId": "7ec8453c-0cd2-495e-e7c7-0d87de29e2f5"
      },
      "execution_count": null,
      "outputs": [
        {
          "output_type": "stream",
          "name": "stdout",
          "text": [
            "Counts for 'race' column:\n",
            "Caucasian          2907\n",
            "AfricanAmerican     113\n",
            "Other                30\n",
            "Asian                 9\n",
            "Name: race, dtype: int64\n",
            "\n",
            "Counts for 'gender' column:\n",
            "Female    1574\n",
            "Male      1485\n",
            "Name: gender, dtype: int64\n",
            "\n",
            "Counts for 'age' column:\n",
            "[70-80)     899\n",
            "[60-70)     684\n",
            "[80-90)     520\n",
            "[50-60)     477\n",
            "[40-50)     221\n",
            "[90-100)     87\n",
            "[30-40)      83\n",
            "[20-30)      66\n",
            "[10-20)      18\n",
            "[0-10)        4\n",
            "Name: age, dtype: int64\n",
            "\n",
            "Counts for 'weight' column:\n",
            "[75-100)     1279\n",
            "[50-75)       861\n",
            "[100-125)     596\n",
            "[125-150)     136\n",
            "[25-50)        93\n",
            "[0-25)         47\n",
            "[150-175)      34\n",
            "[175-200)      10\n",
            ">200            3\n",
            "Name: weight, dtype: int64\n",
            "\n",
            "Counts for 'time_in_hospital' column:\n",
            "3     543\n",
            "2     453\n",
            "4     446\n",
            "5     307\n",
            "6     303\n",
            "1     274\n",
            "7     206\n",
            "8     153\n",
            "9     110\n",
            "10     76\n",
            "11     59\n",
            "12     51\n",
            "13     46\n",
            "14     32\n",
            "Name: time_in_hospital, dtype: int64\n",
            "\n",
            "Counts for 'num_lab_procedures' column:\n",
            "69     97\n",
            "72     86\n",
            "68     75\n",
            "61     75\n",
            "54     74\n",
            "       ..\n",
            "102     1\n",
            "105     1\n",
            "96      1\n",
            "103     1\n",
            "94      1\n",
            "Name: num_lab_procedures, Length: 100, dtype: int64\n",
            "\n",
            "Counts for 'num_procedures' column:\n",
            "0    1283\n",
            "1     674\n",
            "2     353\n",
            "3     326\n",
            "6     168\n",
            "4     143\n",
            "5     112\n",
            "Name: num_procedures, dtype: int64\n",
            "\n",
            "Counts for 'num_medications' column:\n",
            "15    208\n",
            "13    201\n",
            "16    193\n",
            "12    186\n",
            "14    182\n",
            "17    177\n",
            "18    163\n",
            "10    160\n",
            "11    154\n",
            "20    129\n",
            "19    126\n",
            "8     114\n",
            "9     111\n",
            "21    103\n",
            "7      92\n",
            "22     91\n",
            "23     79\n",
            "6      71\n",
            "24     62\n",
            "25     57\n",
            "26     46\n",
            "27     43\n",
            "5      38\n",
            "4      35\n",
            "28     25\n",
            "3      22\n",
            "30     22\n",
            "29     21\n",
            "32     18\n",
            "31     14\n",
            "44      9\n",
            "46      9\n",
            "43      9\n",
            "34      8\n",
            "36      7\n",
            "41      7\n",
            "33      7\n",
            "40      7\n",
            "35      6\n",
            "2       6\n",
            "42      5\n",
            "1       5\n",
            "37      5\n",
            "52      4\n",
            "39      4\n",
            "38      3\n",
            "48      3\n",
            "45      3\n",
            "51      2\n",
            "58      2\n",
            "49      1\n",
            "55      1\n",
            "57      1\n",
            "47      1\n",
            "65      1\n",
            "Name: num_medications, dtype: int64\n",
            "\n",
            "Counts for 'number_outpatient' column:\n",
            "0     1753\n",
            "1      491\n",
            "2      326\n",
            "3      202\n",
            "4      126\n",
            "5       64\n",
            "6       30\n",
            "7       19\n",
            "9       12\n",
            "8       11\n",
            "10      10\n",
            "11       5\n",
            "13       3\n",
            "15       2\n",
            "14       2\n",
            "21       1\n",
            "16       1\n",
            "12       1\n",
            "Name: number_outpatient, dtype: int64\n",
            "\n",
            "Counts for 'number_emergency' column:\n",
            "0     2597\n",
            "1      317\n",
            "2       83\n",
            "3       31\n",
            "4       16\n",
            "5        5\n",
            "6        5\n",
            "7        1\n",
            "9        1\n",
            "13       1\n",
            "11       1\n",
            "10       1\n",
            "Name: number_emergency, dtype: int64\n",
            "\n",
            "Counts for 'number_inpatient' column:\n",
            "0     2016\n",
            "1      646\n",
            "2      235\n",
            "3       87\n",
            "4       32\n",
            "5       21\n",
            "6        9\n",
            "9        3\n",
            "8        2\n",
            "7        2\n",
            "12       1\n",
            "14       1\n",
            "21       1\n",
            "18       1\n",
            "10       1\n",
            "19       1\n",
            "Name: number_inpatient, dtype: int64\n",
            "\n",
            "Counts for 'number_diagnoses' column:\n",
            "9    1845\n",
            "7     582\n",
            "8     219\n",
            "6     174\n",
            "5     119\n",
            "4      70\n",
            "3      29\n",
            "2      12\n",
            "1       9\n",
            "Name: number_diagnoses, dtype: int64\n",
            "\n",
            "Counts for 'change' column:\n",
            "No    2042\n",
            "Ch    1017\n",
            "Name: change, dtype: int64\n",
            "\n",
            "Counts for 'diabetesMed' column:\n",
            "Yes    2101\n",
            "No      958\n",
            "Name: diabetesMed, dtype: int64\n",
            "\n",
            "Counts for 'readmitted' column:\n",
            ">30    1449\n",
            "NO     1264\n",
            "<30     346\n",
            "Name: readmitted, dtype: int64\n",
            "\n"
          ]
        }
      ]
    },
    {
      "cell_type": "code",
      "source": [
        "from sklearn.model_selection import StratifiedKFold\n",
        "from sklearn.tree import DecisionTreeClassifier\n",
        "from sklearn.preprocessing import StandardScaler, LabelEncoder, OneHotEncoder\n",
        "from sklearn.compose import ColumnTransformer\n",
        "from sklearn.pipeline import Pipeline\n",
        "from sklearn.metrics import accuracy_score"
      ],
      "metadata": {
        "id": "Beo7ti-X_Dk8"
      },
      "execution_count": 22,
      "outputs": []
    },
    {
      "cell_type": "code",
      "source": [
        "X = df.drop('readmitted', axis=1)\n",
        "y = df['readmitted']\n",
        "\n",
        "# Encode the target variable 'readmitted' with numerical labels\n",
        "label_encoder = LabelEncoder()\n",
        "y = label_encoder.fit_transform(y)\n",
        "\n",
        "# Define columns to be scaled and encoded\n",
        "numerical_columns = ['time_in_hospital', 'num_lab_procedures', 'num_procedures', 'num_medications',\n",
        "                     'number_inpatient', 'number_emergency','number_diagnoses']\n",
        "categorical_columns = ['race', 'gender','age','weight','change','diabetesMed']\n",
        "\n",
        "# Create a pipeline for preprocessing\n",
        "preprocessor = ColumnTransformer(\n",
        "    transformers=[\n",
        "        ('num', StandardScaler(), numerical_columns),   # Standardize numerical columns\n",
        "        ('cat', OneHotEncoder(), categorical_columns)   # One-hot encode categorical columns\n",
        "    ])\n",
        "\n",
        "# Create the Decision Tree model\n",
        "model = DecisionTreeClassifier(criterion='gini', max_depth=4, random_state=42)\n",
        "\n",
        "# Create stratified k-fold cross-validator\n",
        "skf = StratifiedKFold(n_splits=5, random_state=42, shuffle=True)\n",
        "\n",
        "# Perform stratified k-fold cross-validation and evaluate the model\n",
        "accuracy_scores = []\n",
        "for train_index, test_index in skf.split(X, y):\n",
        "    X_train, X_test = X.iloc[train_index], X.iloc[test_index]\n",
        "    y_train, y_test = y[train_index], y[test_index]\n",
        "\n",
        "    model_pipeline = Pipeline(steps=[\n",
        "        ('preprocessor', preprocessor),\n",
        "        ('classifier', model)\n",
        "    ])\n",
        "\n",
        "    model_pipeline.fit(X_train, y_train)\n",
        "    y_pred = model_pipeline.predict(X_test)\n",
        "    accuracy = accuracy_score(y_test, y_pred)\n",
        "    accuracy_scores.append(accuracy)\n",
        "\n",
        "# Calculate the average accuracy across all folds\n",
        "average_accuracy = sum(accuracy_scores) / len(accuracy_scores)\n",
        "print(\"Average Accuracy:\", average_accuracy)"
      ],
      "metadata": {
        "colab": {
          "base_uri": "https://localhost:8080/"
        },
        "id": "qdkEe7TD9IZr",
        "outputId": "bf639775-c5b5-4979-fb06-8b65e9c38e71"
      },
      "execution_count": 30,
      "outputs": [
        {
          "output_type": "stream",
          "name": "stdout",
          "text": [
            "Average Accuracy: 0.4890546944364216\n"
          ]
        }
      ]
    },
    {
      "cell_type": "code",
      "source": [],
      "metadata": {
        "id": "rgiVeGeaBdL4"
      },
      "execution_count": null,
      "outputs": []
    },
    {
      "cell_type": "code",
      "source": [
        "from sklearn.neighbors import KNeighborsClassifier\n",
        "df = pd.read_csv(file_url)\n",
        "\n",
        "# Separate the features (X) and the target (y) variable\n",
        "X = df.drop('readmitted', axis=1)\n",
        "y = df['readmitted']\n",
        "\n",
        "# Encode the target variable 'readmitted' with numerical labels\n",
        "label_encoder = LabelEncoder()\n",
        "y = label_encoder.fit_transform(y)\n",
        "\n",
        "# Define columns to be scaled and encoded\n",
        "numerical_columns = ['time_in_hospital', 'num_lab_procedures', 'num_procedures', 'num_medications',\n",
        "                     'number_inpatient', 'number_emergency','number_diagnoses']\n",
        "categorical_columns = ['race', 'gender','age','weight','change','diabetesMed']\n",
        "\n",
        "# Create a pipeline for preprocessing\n",
        "preprocessor = ColumnTransformer(\n",
        "    transformers=[\n",
        "        ('num', StandardScaler(), numerical_columns),   # Standardize numerical columns\n",
        "        ('cat', OneHotEncoder(), categorical_columns)   # One-hot encode categorical columns\n",
        "    ])\n",
        "\n",
        "k = 10  # You can choose a different value for k\n",
        "model = KNeighborsClassifier(n_neighbors=k)\n",
        "\n",
        "# Create stratified k-fold cross-validator\n",
        "skf = StratifiedKFold(n_splits=5, random_state=42, shuffle=True)\n",
        "\n",
        "# Perform stratified k-fold cross-validation and evaluate the model\n",
        "accuracy_scores = []\n",
        "for train_index, test_index in skf.split(X, y):\n",
        "    X_train, X_test = X.iloc[train_index], X.iloc[test_index]\n",
        "    y_train, y_test = y[train_index], y[test_index]\n",
        "\n",
        "    model_pipeline = Pipeline(steps=[\n",
        "        ('preprocessor', preprocessor),\n",
        "        ('classifier', model)\n",
        "    ])\n",
        "\n",
        "    model_pipeline.fit(X_train, y_train)\n",
        "    y_pred = model_pipeline.predict(X_test)\n",
        "    accuracy = accuracy_score(y_test, y_pred)\n",
        "    accuracy_scores.append(accuracy)\n",
        "\n",
        "# Calculate the average accuracy across all folds\n",
        "average_accuracy = sum(accuracy_scores) / len(accuracy_scores)\n",
        "print(\"Average Accuracy:\", average_accuracy)"
      ],
      "metadata": {
        "colab": {
          "base_uri": "https://localhost:8080/"
        },
        "id": "Rln0SXyQA7Fm",
        "outputId": "8959aecf-5566-483a-94a7-c0111d1b660b"
      },
      "execution_count": 32,
      "outputs": [
        {
          "output_type": "stream",
          "name": "stdout",
          "text": [
            "Average Accuracy: 0.5279464648521253\n"
          ]
        }
      ]
    },
    {
      "cell_type": "code",
      "source": [
        "from sklearn.cluster import KMeans\n",
        "from sklearn.metrics import silhouette_score\n",
        "df = pd.read_csv(file_url)\n",
        "\n",
        "numerical_columns = ['time_in_hospital', 'num_lab_procedures', 'num_procedures', 'num_medications',\n",
        "                     'number_inpatient', 'number_emergency','number_diagnoses']\n",
        "categorical_columns = ['race', 'gender','age','weight','change','diabetesMed']\n",
        "\n",
        "# Create a pipeline for preprocessing\n",
        "preprocessor = ColumnTransformer(\n",
        "    transformers=[\n",
        "        ('num', StandardScaler(), numerical_columns),   # Standardize numerical columns\n",
        "        ('cat', OneHotEncoder(), categorical_columns)   # One-hot encode categorical columns\n",
        "    ])\n",
        "\n",
        "k = 3  # Choose the number of clusters (k) for k-means clustering\n",
        "model = KMeans(n_clusters=k, random_state=42)\n",
        "\n",
        "# Fit and transform the data using the preprocessing pipeline\n",
        "X_processed = preprocessor.fit_transform(X)\n",
        "\n",
        "# Fit the k-means model to the preprocessed data\n",
        "model.fit(X_processed)\n",
        "\n",
        "# Get the cluster assignments for each data point\n",
        "cluster_labels = model.labels_\n",
        "\n",
        "# Add the cluster assignments to the original DataFrame\n",
        "df['cluster'] = cluster_labels\n",
        "\n",
        "# Now you have the cluster assignments in the 'cluster' column of the DataFrame\n",
        "print(df['cluster'].value_counts())\n",
        "\n",
        "# Calculate the Silhouette Score\n",
        "silhouette_avg = silhouette_score(X_processed, cluster_labels)\n",
        "print(\"Silhouette Score:\", silhouette_avg)\n",
        "\n",
        "# Now you have the cluster assignments in the 'cluster' column of the DataFrame\n",
        "print(df['cluster'].value_counts())"
      ],
      "metadata": {
        "colab": {
          "base_uri": "https://localhost:8080/"
        },
        "id": "TPpx-9RzA_Hi",
        "outputId": "38f74407-b09e-4a97-bd99-c576410fbe13"
      },
      "execution_count": null,
      "outputs": [
        {
          "output_type": "stream",
          "name": "stderr",
          "text": [
            "/usr/local/lib/python3.10/dist-packages/sklearn/cluster/_kmeans.py:870: FutureWarning: The default value of `n_init` will change from 10 to 'auto' in 1.4. Set the value of `n_init` explicitly to suppress the warning\n",
            "  warnings.warn(\n"
          ]
        },
        {
          "output_type": "stream",
          "name": "stdout",
          "text": [
            "2    47371\n",
            "0    30862\n",
            "1    23533\n",
            "Name: cluster, dtype: int64\n",
            "Silhouette Score: 0.11051953879659038\n",
            "2    47371\n",
            "0    30862\n",
            "1    23533\n",
            "Name: cluster, dtype: int64\n"
          ]
        }
      ]
    },
    {
      "cell_type": "code",
      "source": [
        "original_counts = df['readmitted'].value_counts()\n",
        "\n",
        "print(\"\\nOriginal Target Variable Counts:\")\n",
        "print(original_counts)"
      ],
      "metadata": {
        "colab": {
          "base_uri": "https://localhost:8080/"
        },
        "id": "NBTa-2eCCzmg",
        "outputId": "7ae5d253-b225-46af-ebd2-ac42a5da99c1"
      },
      "execution_count": null,
      "outputs": [
        {
          "output_type": "stream",
          "name": "stdout",
          "text": [
            "\n",
            "Original Target Variable Counts:\n",
            "NO     54864\n",
            ">30    35545\n",
            "<30    11357\n",
            "Name: readmitted, dtype: int64\n"
          ]
        }
      ]
    }
  ]
}